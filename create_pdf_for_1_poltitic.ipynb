{
 "cells": [
  {
   "cell_type": "code",
   "execution_count": 31,
   "metadata": {},
   "outputs": [],
   "source": [
    "from main import get_deputy_votes_page, get_politic_votes, get_politic_image, get_politic_party"
   ]
  },
  {
   "cell_type": "code",
   "execution_count": 2,
   "metadata": {},
   "outputs": [],
   "source": [
    "import matplotlib.pyplot as plt\n",
    "import matplotlib.image as mpimg\n",
    "import pandas as pd\n",
    "import numpy as np"
   ]
  },
  {
   "cell_type": "code",
   "execution_count": 3,
   "metadata": {},
   "outputs": [],
   "source": [
    "deputy_name = \"Christian Girard\"\n"
   ]
  },
  {
   "cell_type": "code",
   "execution_count": 33,
   "metadata": {},
   "outputs": [],
   "source": [
    "deputy_page = get_deputy_votes_page(deputy_name)"
   ]
  },
  {
   "cell_type": "code",
   "execution_count": 4,
   "metadata": {},
   "outputs": [],
   "source": [
    "df = get_politic_votes(deputy_name)\n",
    "img_url = get_politic_image(deputy_name)\n"
   ]
  },
  {
   "cell_type": "code",
   "execution_count": 5,
   "metadata": {},
   "outputs": [],
   "source": [
    "party = get_politic_party(deputy_name)"
   ]
  },
  {
   "cell_type": "code",
   "execution_count": 7,
   "metadata": {},
   "outputs": [],
   "source": [
    "import requests\n",
    "from PIL import Image\n",
    "response = requests.get(img_url)\n",
    "img_data = response.content\n",
    "\n",
    "with open('deputy_image.png', 'wb') as f:\n",
    "    f.write(img_data)\n",
    "\n",
    "img = Image.open('deputy_image.png')\n"
   ]
  },
  {
   "cell_type": "code",
   "execution_count": 8,
   "metadata": {},
   "outputs": [],
   "source": [
    "list_of_votes = [f\"vote_{i}\" for i in (3213, 1403, 325, 210, 44)]"
   ]
  },
  {
   "cell_type": "code",
   "execution_count": 9,
   "metadata": {},
   "outputs": [
    {
     "data": {
      "text/plain": [
       "<Axes: xlabel='vote_category'>"
      ]
     },
     "execution_count": 9,
     "metadata": {},
     "output_type": "execute_result"
    },
    {
     "data": {
      "image/png": "[encoded data removed]",
      "text/plain": [
       "<Figure size 640x480 with 1 Axes>"
      ]
     },
     "metadata": {},
     "output_type": "display_data"
    }
   ],
   "source": [
    "df[\"vote_category\"].value_counts().plot(kind='bar')"
   ]
  },
  {
   "cell_type": "code",
   "execution_count": 10,
   "metadata": {},
   "outputs": [],
   "source": [
    "df_subset = df[df[\"vote_id\"].isin(list_of_votes)]"
   ]
  },
  {
   "cell_type": "code",
   "execution_count": 11,
   "metadata": {},
   "outputs": [
    {
     "data": {
      "text/html": [
       "<div>\n",
       "<style scoped>\n",
       "    .dataframe tbody tr th:only-of-type {\n",
       "        vertical-align: middle;\n",
       "    }\n",
       "\n",
       "    .dataframe tbody tr th {\n",
       "        vertical-align: top;\n",
       "    }\n",
       "\n",
       "    .dataframe thead th {\n",
       "        text-align: right;\n",
       "    }\n",
       "</style>\n",
       "<table border=\"1\" class=\"dataframe\">\n",
       "  <thead>\n",
       "    <tr style=\"text-align: right;\">\n",
       "      <th></th>\n",
       "      <th>vote_id</th>\n",
       "      <th>for_or_against</th>\n",
       "      <th>vote_topic</th>\n",
       "      <th>vote_date</th>\n",
       "      <th>politic_name</th>\n",
       "      <th>vote_category</th>\n",
       "    </tr>\n",
       "  </thead>\n",
       "  <tbody>\n",
       "    <tr>\n",
       "      <th>6</th>\n",
       "      <td>vote_3213</td>\n",
       "      <td>POUR</td>\n",
       "      <td>Projet de loi immigration</td>\n",
       "      <td>19 déc. 2023</td>\n",
       "      <td>christian-girard</td>\n",
       "      <td>affaires-sociales</td>\n",
       "    </tr>\n",
       "    <tr>\n",
       "      <th>14</th>\n",
       "      <td>vote_1403</td>\n",
       "      <td>POUR</td>\n",
       "      <td>Supprimer la proposition de loi interdisant le...</td>\n",
       "      <td>06 avr. 2023</td>\n",
       "      <td>christian-girard</td>\n",
       "      <td>environnement</td>\n",
       "    </tr>\n",
       "    <tr>\n",
       "      <th>28</th>\n",
       "      <td>vote_325</td>\n",
       "      <td>ABSTENTION</td>\n",
       "      <td>Rétablir l'impôt de solidarité sur la fortune ...</td>\n",
       "      <td>17 oct. 2022</td>\n",
       "      <td>christian-girard</td>\n",
       "      <td>economie</td>\n",
       "    </tr>\n",
       "    <tr>\n",
       "      <th>29</th>\n",
       "      <td>vote_210</td>\n",
       "      <td>POUR</td>\n",
       "      <td>Interdire aux salariés en CDD qui refusent un ...</td>\n",
       "      <td>05 oct. 2022</td>\n",
       "      <td>christian-girard</td>\n",
       "      <td>affaires-sociales</td>\n",
       "    </tr>\n",
       "    <tr>\n",
       "      <th>32</th>\n",
       "      <td>vote_44</td>\n",
       "      <td>CONTRE</td>\n",
       "      <td>Augmenter le salaire minimum (SMIC) à 1500 eur...</td>\n",
       "      <td>20 juill. 2022</td>\n",
       "      <td>christian-girard</td>\n",
       "      <td>economie</td>\n",
       "    </tr>\n",
       "  </tbody>\n",
       "</table>\n",
       "</div>"
      ],
      "text/plain": [
       "      vote_id for_or_against  \\\n",
       "6   vote_3213           POUR   \n",
       "14  vote_1403           POUR   \n",
       "28   vote_325     ABSTENTION   \n",
       "29   vote_210           POUR   \n",
       "32    vote_44         CONTRE   \n",
       "\n",
       "                                           vote_topic       vote_date  \\\n",
       "6                           Projet de loi immigration    19 déc. 2023   \n",
       "14  Supprimer la proposition de loi interdisant le...    06 avr. 2023   \n",
       "28  Rétablir l'impôt de solidarité sur la fortune ...    17 oct. 2022   \n",
       "29  Interdire aux salariés en CDD qui refusent un ...    05 oct. 2022   \n",
       "32  Augmenter le salaire minimum (SMIC) à 1500 eur...  20 juill. 2022   \n",
       "\n",
       "        politic_name      vote_category  \n",
       "6   christian-girard  affaires-sociales  \n",
       "14  christian-girard      environnement  \n",
       "28  christian-girard           economie  \n",
       "29  christian-girard  affaires-sociales  \n",
       "32  christian-girard           economie  "
      ]
     },
     "execution_count": 11,
     "metadata": {},
     "output_type": "execute_result"
    }
   ],
   "source": [
    "df_subset"
   ]
  },
  {
   "cell_type": "code",
   "execution_count": 51,
   "metadata": {},
   "outputs": [
    {
     "name": "stdout",
     "output_type": "stream",
     "text": [
      "PDF generated: output.pdf\n"
     ]
    }
   ],
   "source": [
    "from reportlab.lib.pagesizes import A4\n",
    "from reportlab.lib.styles import getSampleStyleSheet, ParagraphStyle\n",
    "from reportlab.lib.enums import TA_CENTER\n",
    "from reportlab.platypus import SimpleDocTemplate, Paragraph, Image, Spacer, Table, TableStyle\n",
    "from reportlab.lib import colors\n",
    "from reportlab.lib.units import cm\n",
    "\n",
    "# Create the PDF document\n",
    "pdf_filename = \"output.pdf\"\n",
    "document = SimpleDocTemplate(pdf_filename, pagesize=A4)\n",
    "\n",
    "# Set up the styles\n",
    "styles = getSampleStyleSheet()\n",
    "title_style = styles['Title']\n",
    "title_style.alignment = TA_CENTER\n",
    "subtitle_style = styles['Heading2']\n",
    "subtitle_style.alignment = TA_CENTER\n",
    "subtitle_style.fontName = 'Helvetica-Bold'\n",
    "\n",
    "normal_style = styles['Normal']\n",
    "normal_style.alignment = TA_CENTER\n",
    "\n",
    "red_style = ParagraphStyle('red', parent=subtitle_style, textColor=colors.red, fontSize=20)\n",
    "\n",
    "# Add a title\n",
    "title = Paragraph(f\"Les votes de votre député sortant : {deputy_name}\", title_style)\n",
    "subtitle = Paragraph(f\"Parti : {party} \", subtitle_style)\n",
    "source = Paragraph(f\"Source : {deputy_page['url']}\", normal_style)\n",
    "after_text = Paragraph(f\"Ne vous meprenez pas, les députés de {party} ne votent pas pour le pouvoir d'achat, ils votent pour la suppression des impôts pour les plus riches et contre l'augmentation du SMIC !\", subtitle_style)\n",
    "vote_text = Paragraph(\"Le 30 juin, votez pour le candidat du Nouveau Front Populaire !\", red_style )\n",
    "\n",
    "# Add an image\n",
    "image_path = 'deputy_image.png'\n",
    "image = Image(image_path)\n",
    "image.drawHeight = 6 * cm\n",
    "image.drawWidth = 5 * cm\n",
    "\n",
    "# Create a list of sentences\n",
    "sentences = df_subset[\"vote_topic\"].tolist()\n",
    "votes = df_subset[\"for_or_against\"].tolist()\n",
    "\n",
    "# Create the table data\n",
    "table_data = [[\"Sujet\", \"Vote\"]]\n",
    "for vote, sentence in zip(sentences, votes):\n",
    "    row = [\n",
    "        Paragraph(vote, normal_style),\n",
    "        Paragraph(sentence, normal_style),\n",
    "    ]\n",
    "    table_data.append(row)\n",
    "\n",
    "# Create the table\n",
    "table = Table(table_data)\n",
    "table.setStyle(TableStyle([\n",
    "    ('BACKGROUND', (0, 0), (-1, 0), colors.white),\n",
    "    ('TEXTCOLOR', (0, 0), (-1, 0), colors.black),\n",
    "    ('ALIGN', (0, 0), (-1, -1), 'CENTER'),\n",
    "    ('FONTNAME', (0, 0), (-1, 1), 'Helvetica-Bold'),\n",
    "    ('FONTSIZE', (0, 0), (-1, 0), 14),\n",
    "    ('BOTTOMPADDING', (0, 0), (-1, 0), 12),\n",
    "    ('ALIGN', (0, 1), (-1, -1), 'CENTER'),\n",
    "    ('BACKGROUND', (0, 1), (-1, -1), colors.white),\n",
    "    ('GRID', (0, 0), (-1, -1), 1, colors.black),\n",
    "]))\n",
    "\n",
    "\n",
    "# Function to apply conditional formatting\n",
    "def apply_conditional_styles(table, data):\n",
    "    style = TableStyle()\n",
    "    for row_idx, row in enumerate(data):\n",
    "        for col_idx, cell in enumerate(row):\n",
    "            if isinstance(cell, Paragraph):\n",
    "                if 'POUR' in cell.text:\n",
    "                    style.add('BACKGROUND', (col_idx, row_idx), (col_idx, row_idx), colors.green)\n",
    "                elif 'CONTRE' in cell.text:\n",
    "                    style.add('BACKGROUND', (col_idx, row_idx), (col_idx, row_idx), colors.red)\n",
    "                elif \"ABSTENTION\" in cell.text:\n",
    "                    style.add('BACKGROUND', (col_idx, row_idx), (col_idx, row_idx), colors.beige)\n",
    "    return style\n",
    "\n",
    "table.setStyle(apply_conditional_styles(table, table_data))\n",
    "\n",
    "\n",
    "# Build the PDF\n",
    "elements = [title, Spacer(1, 6), subtitle, Spacer(1, 12), image, Spacer(1, 12), table, source, Spacer(1, 8), after_text, Spacer(1, 8), vote_text]\n",
    "document.build(elements)\n",
    "\n",
    "\n",
    "print(f\"PDF generated: {pdf_filename}\")\n"
   ]
  },
  {
   "cell_type": "code",
   "execution_count": 16,
   "metadata": {},
   "outputs": [
    {
     "ename": "KeyError",
     "evalue": "\"Style '0' not found in stylesheet\"",
     "output_type": "error",
     "traceback": [
      "\u001b[0;31m---------------------------------------------------------------------------\u001b[0m",
      "\u001b[0;31mKeyError\u001b[0m                                  Traceback (most recent call last)",
      "File \u001b[0;32m/opt/homebrew/Caskroom/miniforge/base/envs/elections/lib/python3.11/site-packages/reportlab/lib/styles.py:231\u001b[0m, in \u001b[0;36mStyleSheet1.__getitem__\u001b[0;34m(self, key)\u001b[0m\n\u001b[1;32m    230\u001b[0m \u001b[38;5;28;01mtry\u001b[39;00m:\n\u001b[0;32m--> 231\u001b[0m     \u001b[38;5;28;01mreturn\u001b[39;00m \u001b[38;5;28;43mself\u001b[39;49m\u001b[38;5;241;43m.\u001b[39;49m\u001b[43mbyAlias\u001b[49m\u001b[43m[\u001b[49m\u001b[43mkey\u001b[49m\u001b[43m]\u001b[49m\n\u001b[1;32m    232\u001b[0m \u001b[38;5;28;01mexcept\u001b[39;00m \u001b[38;5;167;01mKeyError\u001b[39;00m:\n",
      "\u001b[0;31mKeyError\u001b[0m: 0",
      "\nDuring handling of the above exception, another exception occurred:\n",
      "\u001b[0;31mKeyError\u001b[0m                                  Traceback (most recent call last)",
      "File \u001b[0;32m/opt/homebrew/Caskroom/miniforge/base/envs/elections/lib/python3.11/site-packages/reportlab/lib/styles.py:234\u001b[0m, in \u001b[0;36mStyleSheet1.__getitem__\u001b[0;34m(self, key)\u001b[0m\n\u001b[1;32m    233\u001b[0m \u001b[38;5;28;01mtry\u001b[39;00m:\n\u001b[0;32m--> 234\u001b[0m     \u001b[38;5;28;01mreturn\u001b[39;00m \u001b[38;5;28;43mself\u001b[39;49m\u001b[38;5;241;43m.\u001b[39;49m\u001b[43mbyName\u001b[49m\u001b[43m[\u001b[49m\u001b[43mkey\u001b[49m\u001b[43m]\u001b[49m\n\u001b[1;32m    235\u001b[0m \u001b[38;5;28;01mexcept\u001b[39;00m \u001b[38;5;167;01mKeyError\u001b[39;00m:\n",
      "\u001b[0;31mKeyError\u001b[0m: 0",
      "\nDuring handling of the above exception, another exception occurred:\n",
      "\u001b[0;31mKeyError\u001b[0m                                  Traceback (most recent call last)",
      "Cell \u001b[0;32mIn[16], line 1\u001b[0m\n\u001b[0;32m----> 1\u001b[0m \u001b[38;5;28;43mlist\u001b[39;49m\u001b[43m(\u001b[49m\u001b[43mstyles\u001b[49m\u001b[43m)\u001b[49m\n",
      "File \u001b[0;32m/opt/homebrew/Caskroom/miniforge/base/envs/elections/lib/python3.11/site-packages/reportlab/lib/styles.py:236\u001b[0m, in \u001b[0;36mStyleSheet1.__getitem__\u001b[0;34m(self, key)\u001b[0m\n\u001b[1;32m    234\u001b[0m     \u001b[38;5;28;01mreturn\u001b[39;00m \u001b[38;5;28mself\u001b[39m\u001b[38;5;241m.\u001b[39mbyName[key]\n\u001b[1;32m    235\u001b[0m \u001b[38;5;28;01mexcept\u001b[39;00m \u001b[38;5;167;01mKeyError\u001b[39;00m:\n\u001b[0;32m--> 236\u001b[0m     \u001b[38;5;28;01mraise\u001b[39;00m \u001b[38;5;167;01mKeyError\u001b[39;00m(\u001b[38;5;124m\"\u001b[39m\u001b[38;5;124mStyle \u001b[39m\u001b[38;5;124m'\u001b[39m\u001b[38;5;132;01m%s\u001b[39;00m\u001b[38;5;124m'\u001b[39m\u001b[38;5;124m not found in stylesheet\u001b[39m\u001b[38;5;124m\"\u001b[39m \u001b[38;5;241m%\u001b[39m key)\n",
      "\u001b[0;31mKeyError\u001b[0m: \"Style '0' not found in stylesheet\""
     ]
    }
   ],
   "source": [
    "styles."
   ]
  },
  {
   "cell_type": "code",
   "execution_count": null,
   "metadata": {},
   "outputs": [],
   "source": []
  }
 ],
 "metadata": {
  "kernelspec": {
   "display_name": "elections",
   "language": "python",
   "name": "python3"
  },
  "language_info": {
   "codemirror_mode": {
    "name": "ipython",
    "version": 3
   },
   "file_extension": ".py",
   "mimetype": "text/x-python",
   "name": "python",
   "nbconvert_exporter": "python",
   "pygments_lexer": "ipython3",
   "version": "3.11.9"
  }
 },
 "nbformat": 4,
 "nbformat_minor": 2
}
