{
 "cells": [
  {
   "cell_type": "code",
   "execution_count": 31,
   "metadata": {},
   "outputs": [],
   "source": [
    "from main import get_deputy_votes_page, get_politic_votes, get_politic_image, get_politic_party, get"
   ]
  },
  {
   "cell_type": "code",
   "execution_count": 2,
   "metadata": {},
   "outputs": [],
   "source": [
    "import matplotlib.pyplot as plt\n",
    "import matplotlib.image as mpimg\n",
    "import pandas as pd\n",
    "import numpy as np\n",
    "import requests\n",
    "from PIL import Image\n",
    "from reportlab.lib.pagesizes import A4\n",
    "from reportlab.lib.styles import getSampleStyleSheet, ParagraphStyle\n",
    "from reportlab.lib.enums import TA_CENTER\n",
    "from reportlab.platypus import SimpleDocTemplate, Paragraph, Image, Spacer, Table, TableStyle\n",
    "from reportlab.lib import colors\n",
    "from reportlab.lib.units import cm"
   ]
  },
  {
   "cell_type": "code",
   "execution_count": 3,
   "metadata": {},
   "outputs": [],
   "source": [
    "deputy_name = \"Christian Girard\"\n",
    "list_of_votes = [f\"vote_{i}\" for i in (3213, 1403, 325, 210, 44)]"
   ]
  },
  {
   "cell_type": "code",
   "execution_count": 33,
   "metadata": {},
   "outputs": [],
   "source": [
    "deputy_page = get_deputy_votes_page(deputy_name)\n",
    "df = get_politic_votes(deputy_name)\n",
    "img_url = get_politic_image(deputy_name)\n",
    "\n",
    "party = get_politic_party(deputy_name)\n",
    "\n",
    "response = requests.get(img_url)\n",
    "img_data = response.content\n",
    "\n",
    "with open('deputy_image.png', 'wb') as f:\n",
    "    f.write(img_data)\n",
    "\n",
    "img = Image.open('deputy_image.png')\n"
   ]
  },
  {
   "cell_type": "code",
   "execution_count": 10,
   "metadata": {},
   "outputs": [],
   "source": [
    "df_subset = df[df[\"vote_id\"].isin(list_of_votes)]\n",
    "df_subset"
   ]
  },
  {
   "cell_type": "code",
   "execution_count": 52,
   "metadata": {},
   "outputs": [
    {
     "name": "stdout",
     "output_type": "stream",
     "text": [
      "PDF generated: output.pdf\n"
     ]
    }
   ],
   "source": [
    "\n",
    "\n",
    "# Create the PDF document\n",
    "pdf_filename = \"output.pdf\"\n",
    "document = SimpleDocTemplate(pdf_filename, pagesize=A4)\n",
    "\n",
    "# Set up the styles\n",
    "styles = getSampleStyleSheet()\n",
    "title_style = styles['Title']\n",
    "title_style.alignment = TA_CENTER\n",
    "subtitle_style = styles['Heading2']\n",
    "subtitle_style.alignment = TA_CENTER\n",
    "subtitle_style.fontName = 'Helvetica-Bold'\n",
    "\n",
    "normal_style = styles['Normal']\n",
    "normal_style.alignment = TA_CENTER\n",
    "\n",
    "red_style = ParagraphStyle('red', parent=subtitle_style, textColor=colors.red, fontSize=20)\n",
    "\n",
    "# Add a title\n",
    "title = Paragraph(f\"Les votes de votre député sortant : {deputy_name}\", title_style)\n",
    "subtitle = Paragraph(f\"Parti : {party} \", subtitle_style)\n",
    "source = Paragraph(f\"Source : {deputy_page['url']}\", normal_style)\n",
    "after_text = Paragraph(f\"Ne vous meprenez pas, les députés de {party} ne votent pas pour le pouvoir d'achat, ils votent pour la suppression des impôts pour les plus riches et contre l'augmentation du SMIC !\", subtitle_style)\n",
    "vote_text = Paragraph(\"Le 30 juin, votez pour le candidat du Nouveau Front Populaire !\", red_style )\n",
    "\n",
    "# Add an image\n",
    "image_path = 'deputy_image.png'\n",
    "image = Image(image_path)\n",
    "image.drawHeight = 6 * cm\n",
    "image.drawWidth = 5 * cm\n",
    "\n",
    "# Create a list of sentences\n",
    "sentences = df_subset[\"vote_topic\"].tolist()\n",
    "votes = df_subset[\"for_or_against\"].tolist()\n",
    "\n",
    "# Create the table data\n",
    "table_data = [[\"Sujet\", \"Vote\"]]\n",
    "for vote, sentence in zip(sentences, votes):\n",
    "    row = [\n",
    "        Paragraph(vote, normal_style),\n",
    "        Paragraph(sentence, normal_style),\n",
    "    ]\n",
    "    table_data.append(row)\n",
    "\n",
    "# Create the table\n",
    "table = Table(table_data)\n",
    "table.setStyle(TableStyle([\n",
    "    ('BACKGROUND', (0, 0), (-1, 0), colors.white),\n",
    "    ('TEXTCOLOR', (0, 0), (-1, 0), colors.black),\n",
    "    ('ALIGN', (0, 0), (-1, -1), 'CENTER'),\n",
    "    ('FONTNAME', (0, 0), (-1, 1), 'Helvetica-Bold'),\n",
    "    ('FONTSIZE', (0, 0), (-1, 0), 14),\n",
    "    ('BOTTOMPADDING', (0, 0), (-1, 0), 12),\n",
    "    ('ALIGN', (0, 1), (-1, -1), 'CENTER'),\n",
    "    ('BACKGROUND', (0, 1), (-1, -1), colors.white),\n",
    "    ('GRID', (0, 0), (-1, -1), 1, colors.black),\n",
    "]))\n",
    "\n",
    "\n",
    "# Function to apply conditional formatting\n",
    "def apply_conditional_styles(table, data):\n",
    "    style = TableStyle()\n",
    "    for row_idx, row in enumerate(data):\n",
    "        for col_idx, cell in enumerate(row):\n",
    "            if isinstance(cell, Paragraph):\n",
    "                if 'POUR' in cell.text:\n",
    "                    style.add('BACKGROUND', (col_idx, row_idx), (col_idx, row_idx), colors.green)\n",
    "                elif 'CONTRE' in cell.text:\n",
    "                    style.add('BACKGROUND', (col_idx, row_idx), (col_idx, row_idx), colors.red)\n",
    "                elif \"ABSTENTION\" in cell.text:\n",
    "                    style.add('BACKGROUND', (col_idx, row_idx), (col_idx, row_idx), colors.beige)\n",
    "    return style\n",
    "\n",
    "table.setStyle(apply_conditional_styles(table, table_data))\n",
    "\n",
    "\n",
    "# Build the PDF\n",
    "elements = [title, Spacer(1, 6), subtitle, Spacer(1, 12), image, Spacer(1, 12), table, source, Spacer(1, 8), after_text, Spacer(1, 8), vote_text]\n",
    "document.build(elements)\n",
    "\n",
    "\n",
    "print(f\"PDF generated: {pdf_filename}\")\n"
   ]
  },
  {
   "cell_type": "code",
   "execution_count": null,
   "metadata": {},
   "outputs": [],
   "source": []
  }
 ],
 "metadata": {
  "kernelspec": {
   "display_name": "elections",
   "language": "python",
   "name": "python3"
  },
  "language_info": {
   "codemirror_mode": {
    "name": "ipython",
    "version": 3
   },
   "file_extension": ".py",
   "mimetype": "text/x-python",
   "name": "python",
   "nbconvert_exporter": "python",
   "pygments_lexer": "ipython3",
   "version": "3.11.9"
  }
 },
 "nbformat": 4,
 "nbformat_minor": 2
}
